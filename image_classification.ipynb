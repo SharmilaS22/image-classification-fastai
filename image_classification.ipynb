{
 "cells": [
  {
   "cell_type": "code",
   "execution_count": null,
   "id": "adopted-corrections",
   "metadata": {},
   "outputs": [],
   "source": [
    "import os\n",
    "from PIL import Image"
   ]
  },
  {
   "cell_type": "code",
   "execution_count": null,
   "id": "greater-language",
   "metadata": {},
   "outputs": [],
   "source": [
    "import fastbook\n",
    "fastbook.setup_book()"
   ]
  },
  {
   "cell_type": "code",
   "execution_count": null,
   "id": "excited-upgrade",
   "metadata": {},
   "outputs": [],
   "source": [
    "from fastbook import *\n",
    "from fastai.vision.widgets import *"
   ]
  },
  {
   "cell_type": "code",
   "execution_count": null,
   "id": "indie-budapest",
   "metadata": {},
   "outputs": [],
   "source": [
    "# get key from ENV variable\n",
    "key = os.environ.get('GCS_DEVELOPER_KEY')\n",
    "cx  = os.environ.get('GCS_CX') "
   ]
  },
  {
   "cell_type": "markdown",
   "id": "sudden-nevada",
   "metadata": {},
   "source": [
    "### Get images from google image search api"
   ]
  },
  {
   "cell_type": "code",
   "execution_count": null,
   "id": "built-amendment",
   "metadata": {},
   "outputs": [],
   "source": [
    "# https://pypi.org/project/Google-Images-Search/"
   ]
  },
  {
   "cell_type": "code",
   "execution_count": null,
   "id": "sunset-giving",
   "metadata": {},
   "outputs": [],
   "source": [
    "# google image search\n",
    "from google_images_search import GoogleImagesSearch\n",
    "\n",
    "# you can provide API key and CX using arguments,\n",
    "# or you can set environment variables: GCS_DEVELOPER_KEY, GCS_CX\n",
    "gis = GoogleImagesSearch(key, cx)"
   ]
  },
  {
   "cell_type": "code",
   "execution_count": null,
   "id": "elegant-consultation",
   "metadata": {},
   "outputs": [],
   "source": [
    "# search param for Bengal cat\n",
    "_search_params_1 = {\n",
    "    'q': 'Bengal cat',\n",
    "    'num': 120,\n",
    "    'safe': 'high',\n",
    "    'fileType': 'jpg|png',\n",
    "    'imgType': 'photo',\n",
    "    'rights': 'cc_publicdomain|cc_attribute|cc_sharealike|cc_noncommercial|cc_nonderived'\n",
    "}\n",
    "\n",
    "# search param for Persian cat\n",
    "_search_params_2 = {\n",
    "    'q': 'Persian Cat',\n",
    "    'num': 120,\n",
    "    'safe': 'high',\n",
    "    'fileType': 'jpg',\n",
    "    'imgType': 'photo',\n",
    "    'rights': 'cc_publicdomain|cc_attribute|cc_sharealike|cc_noncommercial|cc_nonderived'\n",
    "}"
   ]
  },
  {
   "cell_type": "code",
   "execution_count": null,
   "id": "meaningful-heating",
   "metadata": {},
   "outputs": [],
   "source": [
    "# search first, then download and resize afterwards:\n",
    "gis.search(search_params=_search_params_1,  custom_image_name='bengal')\n",
    "for image in gis.results():\n",
    "    image.download('/images/bengal') #download images to the directory\n",
    "    image.resize(500, 500) # resize image\n",
    "    \n",
    "gis.next_page()  # next page \n",
    "for image in gis.results():\n",
    "    image.download('/images/bengal')\n",
    "    image.resize(500, 500)  "
   ]
  },
  {
   "cell_type": "code",
   "execution_count": null,
   "id": "deluxe-arrangement",
   "metadata": {},
   "outputs": [],
   "source": [
    "os.listdir('/images/bengal')"
   ]
  },
  {
   "cell_type": "code",
   "execution_count": null,
   "id": "sorted-hours",
   "metadata": {},
   "outputs": [],
   "source": [
    "img_to_be_removed = []\n",
    "gis.search(search_params=_search_params_2,  custom_image_name='persian')\n",
    "for image in gis.results():\n",
    "    image.download('/images/persian')\n",
    "    try: # to catch unsupported image file\n",
    "        image.resize(500, 500)\n",
    "    except:\n",
    "        img_to_be_removed.append(image)\n",
    "    \n",
    "gis.next_page()\n",
    "for image in gis.results():\n",
    "    image.download('/images/persian')\n",
    "    try:\n",
    "        image.resize(500, 500)\n",
    "    except UnidentifiedImageError:\n",
    "        img_to_be_removed.append(image)\n"
   ]
  },
  {
   "cell_type": "code",
   "execution_count": null,
   "id": "conventional-amount",
   "metadata": {},
   "outputs": [],
   "source": [
    "# os.listdir('/images/Persian')\n",
    "img_to_be_removed"
   ]
  },
  {
   "cell_type": "markdown",
   "id": "smaller-period",
   "metadata": {},
   "source": [
    "### display image"
   ]
  },
  {
   "cell_type": "code",
   "execution_count": null,
   "id": "artistic-blame",
   "metadata": {},
   "outputs": [],
   "source": [
    "im = Image.open('images/bengal/bengal(1).jpg')\n",
    "im.to_thumb(128,128)"
   ]
  },
  {
   "cell_type": "markdown",
   "id": "civic-black",
   "metadata": {},
   "source": [
    "### path for the images - set"
   ]
  },
  {
   "cell_type": "code",
   "execution_count": null,
   "id": "welsh-connection",
   "metadata": {},
   "outputs": [],
   "source": [
    "path = Path('images')\n",
    "fns = get_image_files(path)\n",
    "fns"
   ]
  },
  {
   "cell_type": "code",
   "execution_count": null,
   "id": "touched-horror",
   "metadata": {},
   "outputs": [],
   "source": [
    "# check for failed images \n",
    "failed = verify_images(fns)\n",
    "failed"
   ]
  },
  {
   "cell_type": "code",
   "execution_count": null,
   "id": "public-scout",
   "metadata": {},
   "outputs": [],
   "source": [
    "# remove failed \n",
    "failed.map(Path.unlink);"
   ]
  },
  {
   "cell_type": "markdown",
   "id": "loving-envelope",
   "metadata": {},
   "source": [
    "## data load"
   ]
  },
  {
   "cell_type": "code",
   "execution_count": null,
   "id": "static-default",
   "metadata": {},
   "outputs": [],
   "source": [
    "cats = DataBlock(\n",
    "    blocks=(ImageBlock, CategoryBlock), \n",
    "    get_items=get_image_files, \n",
    "    splitter=RandomSplitter(valid_pct=0.2, seed=45),\n",
    "    get_y=parent_label, # directory name - label \n",
    "    item_tfms=Resize(128))"
   ]
  },
  {
   "cell_type": "code",
   "execution_count": null,
   "id": "steady-repeat",
   "metadata": {},
   "outputs": [],
   "source": [
    "dls = cats.dataloaders(path, num_workers=0)"
   ]
  },
  {
   "cell_type": "markdown",
   "id": "dirty-adaptation",
   "metadata": {},
   "source": [
    "### skim through images"
   ]
  },
  {
   "cell_type": "code",
   "execution_count": null,
   "id": "unlikely-coalition",
   "metadata": {},
   "outputs": [],
   "source": [
    "dls.valid.show_batch(max_n=4, nrows=1)"
   ]
  },
  {
   "cell_type": "markdown",
   "id": "heard-concrete",
   "metadata": {},
   "source": [
    "### cnn_learner"
   ]
  },
  {
   "cell_type": "code",
   "execution_count": null,
   "id": "noble-acrylic",
   "metadata": {},
   "outputs": [],
   "source": [
    "learn = cnn_learner(dls, resnet18, metrics=error_rate)\n",
    "learn.fine_tune(4)"
   ]
  },
  {
   "cell_type": "markdown",
   "id": "utility-juvenile",
   "metadata": {},
   "source": [
    "### confusion matrix"
   ]
  },
  {
   "cell_type": "code",
   "execution_count": null,
   "id": "boolean-committee",
   "metadata": {},
   "outputs": [],
   "source": [
    "interp = ClassificationInterpretation.from_learner(learn)\n",
    "interp.plot_confusion_matrix()"
   ]
  },
  {
   "cell_type": "markdown",
   "id": "respected-christopher",
   "metadata": {},
   "source": [
    "### view the top wrong prediction"
   ]
  },
  {
   "cell_type": "code",
   "execution_count": null,
   "id": "sublime-conditioning",
   "metadata": {},
   "outputs": [],
   "source": [
    "interp.plot_top_losses(5, nrows=1)"
   ]
  },
  {
   "cell_type": "code",
   "execution_count": null,
   "id": "fifteen-agenda",
   "metadata": {},
   "outputs": [],
   "source": [
    "# export the model\n",
    "learn.export()"
   ]
  },
  {
   "cell_type": "markdown",
   "id": "female-sally",
   "metadata": {},
   "source": [
    "-------------------------------------------------------------------"
   ]
  },
  {
   "cell_type": "code",
   "execution_count": null,
   "id": "connected-height",
   "metadata": {},
   "outputs": [],
   "source": [
    "# load the saved learner"
   ]
  },
  {
   "cell_type": "code",
   "execution_count": null,
   "id": "quiet-display",
   "metadata": {},
   "outputs": [],
   "source": [
    "# import learner\n",
    "saved_learner = load_learner('export.pkl')"
   ]
  },
  {
   "cell_type": "code",
   "execution_count": null,
   "id": "environmental-values",
   "metadata": {},
   "outputs": [],
   "source": [
    "# GUI"
   ]
  },
  {
   "cell_type": "code",
   "execution_count": null,
   "id": "accomplished-reservation",
   "metadata": {},
   "outputs": [],
   "source": [
    "btn_upload = widgets.FileUpload()\n",
    "btn_upload"
   ]
  },
  {
   "cell_type": "code",
   "execution_count": null,
   "id": "greatest-peeing",
   "metadata": {},
   "outputs": [],
   "source": [
    "img = PILImage.create(btn_upload.data[-1])\n",
    "\n",
    "out_pl = widgets.Output()\n",
    "out_pl.clear_output()\n",
    "with out_pl: display(img.to_thumb(128,128))\n",
    "out_pl"
   ]
  },
  {
   "cell_type": "code",
   "execution_count": null,
   "id": "rental-documentation",
   "metadata": {},
   "outputs": [],
   "source": [
    "# predict \n",
    "pred, pred_idx, probs = saved_learner.predict(img)"
   ]
  },
  {
   "cell_type": "code",
   "execution_count": null,
   "id": "assured-classics",
   "metadata": {},
   "outputs": [],
   "source": [
    "pred, float(probs[pred_idx])"
   ]
  },
  {
   "cell_type": "code",
   "execution_count": null,
   "id": "complimentary-binary",
   "metadata": {},
   "outputs": [],
   "source": [
    "# complete GUI \n",
    "\n",
    "btn_run = widgets.Button(description='Classify')\n",
    "btn_run "
   ]
  },
  {
   "cell_type": "code",
   "execution_count": null,
   "id": "another-vietnamese",
   "metadata": {},
   "outputs": [],
   "source": [
    "lbl_pred = widgets.Label()\n",
    "lbl_pred.value = f'Prediction: {pred}; Probability: {probs[pred_idx]:.04f}'\n",
    "lbl_pred"
   ]
  },
  {
   "cell_type": "code",
   "execution_count": null,
   "id": "respected-consolidation",
   "metadata": {},
   "outputs": [],
   "source": [
    "def on_click_classify(change):\n",
    "    img = PILImage.create(btn_upload.data[-1])\n",
    "    out_pl.clear_output()\n",
    "    with out_pl: display(img.to_thumb(128,128))\n",
    "    pred,pred_idx,probs = saved_learner.predict(img)\n",
    "    lbl_pred.value = f'Prediction: {pred}; Probability: {probs[pred_idx]:.04f}'\n",
    "\n",
    "btn_run.on_click(on_click_classify)"
   ]
  },
  {
   "cell_type": "code",
   "execution_count": null,
   "id": "jewish-lighting",
   "metadata": {},
   "outputs": [],
   "source": [
    "btn_upload = widgets.FileUpload()"
   ]
  },
  {
   "cell_type": "code",
   "execution_count": null,
   "id": "aquatic-access",
   "metadata": {},
   "outputs": [],
   "source": [
    "VBox([widgets.Label('Upload your cat!'), \n",
    "      btn_upload, btn_run, out_pl, lbl_pred])"
   ]
  }
 ],
 "metadata": {
  "kernelspec": {
   "display_name": "Python 3",
   "language": "python",
   "name": "python3"
  },
  "language_info": {
   "codemirror_mode": {
    "name": "ipython",
    "version": 3
   },
   "file_extension": ".py",
   "mimetype": "text/x-python",
   "name": "python",
   "nbconvert_exporter": "python",
   "pygments_lexer": "ipython3",
   "version": "3.7.0"
  }
 },
 "nbformat": 4,
 "nbformat_minor": 5
}
